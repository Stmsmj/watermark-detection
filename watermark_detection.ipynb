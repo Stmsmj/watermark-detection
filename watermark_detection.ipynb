{
 "cells": [
  {
   "cell_type": "code",
   "execution_count": 2,
   "metadata": {},
   "outputs": [],
   "source": [
    "import pandas as pd\n",
    "import numpy as np\n",
    "import seaborn as sns\n",
    "from sklearn.model_selection import train_test_split\n",
    "import matplotlib.pyplot as plt\n",
    "import tensorflow as tf\n",
    "from tensorflow import keras\n",
    "from sklearn.metrics import f1_score,accuracy_score,confusion_matrix,mean_squared_error,r2_score,mean_absolute_error\n",
    "from sklearn.preprocessing import MinMaxScaler\n",
    "from sklearn.impute import SimpleImputer\n",
    "from sklearn.model_selection import cross_val_score\n",
    "from sklearn.utils import shuffle\n",
    "from sklearn.decomposition import PCA\n",
    "import os\n",
    "import cv2\n",
    "import pickle\n",
    "from tqdm import tqdm"
   ]
  },
  {
   "cell_type": "code",
   "execution_count": 7,
   "metadata": {},
   "outputs": [],
   "source": [
    "# load and resizing the images\n",
    "categories=['negative','positive']\n",
    "MyDs=[]\n",
    "for category in categories:\n",
    "    if category=='negative':\n",
    "        label=0\n",
    "    else:\n",
    "        label=1\n",
    "    Path=os.path.join('D:\\\\datasets\\\\watermark detector\\\\dataset\\\\train',category)\n",
    "    for pic_name in os.listdir(Path):\n",
    "        try:\n",
    "            image=cv2.imread(os.path.join(Path,pic_name))\n",
    "            resized = cv2.resize(image, (130, 130))\n",
    "        except:\n",
    "            pass\n",
    "        MyDs.append([resized,label])\n"
   ]
  },
  {
   "cell_type": "code",
   "execution_count": 3,
   "metadata": {},
   "outputs": [],
   "source": [
    "# rescaling\n",
    "for i in range(len(MyDs)):\n",
    "    MyDs[i][0]=MyDs[i][0]/255\n",
    "    \n",
    "# shuffling\n",
    "shuffle(MyDs)"
   ]
  },
  {
   "cell_type": "code",
   "execution_count": 4,
   "metadata": {},
   "outputs": [],
   "source": [
    "# pickle_out=open('MyDs.pkl','wb')\n",
    "# pickle.dump(MyDs,pickle_out)\n",
    "# pickle_out.close()\n",
    "\n",
    "pickle_in=open('MyDs.pkl','rb')\n",
    "MyDs=pickle.load(pickle_in)"
   ]
  },
  {
   "cell_type": "code",
   "execution_count": 5,
   "metadata": {},
   "outputs": [],
   "source": [
    "X_MyDs=[]\n",
    "Y_MyDs=[]\n",
    "for x,y in MyDs:\n",
    "    X_MyDs.append(x)\n",
    "    Y_MyDs.append(y)"
   ]
  },
  {
   "cell_type": "code",
   "execution_count": 6,
   "metadata": {},
   "outputs": [],
   "source": [
    "x_train,x_test,y_train,y_test=train_test_split(X_MyDs,Y_MyDs,test_size=0.21,random_state=42,shuffle=True)\n",
    "x_train,x_val,y_train,y_val=train_test_split(x_train,y_train,test_size=0.18,random_state=42)\n",
    "x_train=np.array(x_train)\n",
    "x_test=np.array(x_test)\n",
    "x_val=np.array(x_val)\n",
    "y_train=np.array(y_train)\n",
    "y_test=np.array(y_test)\n",
    "y_val=np.array(y_val)"
   ]
  },
  {
   "cell_type": "code",
   "execution_count": 13,
   "metadata": {},
   "outputs": [
    {
     "name": "stdout",
     "output_type": "stream",
     "text": [
      "WARNING:tensorflow:EarlyStopping mode val_loss is unknown, fallback to auto mode.\n",
      "Model: \"sequential_3\"\n",
      "_________________________________________________________________\n",
      " Layer (type)                Output Shape              Param #   \n",
      "=================================================================\n",
      " conv2d_7 (Conv2D)           (None, 195, 195, 32)      3488      \n",
      "                                                                 \n",
      " max_pooling2d_6 (MaxPooling  (None, 97, 97, 32)       0         \n",
      " 2D)                                                             \n",
      "                                                                 \n",
      " flatten_2 (Flatten)         (None, 301088)            0         \n",
      "                                                                 \n",
      " dense_6 (Dense)             (None, 1)                 301089    \n",
      "                                                                 \n",
      "=================================================================\n",
      "Total params: 304,577\n",
      "Trainable params: 304,577\n",
      "Non-trainable params: 0\n",
      "_________________________________________________________________\n"
     ]
    }
   ],
   "source": [
    "model=tf.keras.Sequential([\n",
    "    keras.layers.Conv2D(32,kernel_size=(6,6),activation='relu',input_shape=(200,200,3),kernel_constraint=keras.constraints.max_norm(0.3)),\n",
    "    keras.layers.MaxPool2D(pool_size=(2,2),strides=2),\n",
    "    # keras.layers.Conv2D(64,kernel_size=(3,3),activation='relu',kernel_constraint=keras.constraints.max_norm(0.3)),\n",
    "    # keras.layers.MaxPool2D(pool_size=(2)),\n",
    "    # keras.layers.Conv2D(128,kernel_size=(3,3),activation='relu',kernel_constraint=keras.constraints.max_norm(0.3)),\n",
    "    # keras.layers.MaxPool2D(pool_size=(2)),\n",
    "    # keras.layers.Conv2D(128,kernel_size=(3,3),activation='relu',padding='same',kernel_constraint=keras.constraints.max_norm(0.3)),\n",
    "    # keras.layers.Conv2D(256,kernel_size=(3,3),activation='relu',padding='same',kernel_constraint=keras.constraints.max_norm(0.3)),\n",
    "    # keras.layers.MaxPool2D(pool_size=(2)),\n",
    "    keras.layers.Flatten(),\n",
    "    # keras.layers.Dense(256,activation='relu',kernel_constraint=keras.constraints.max_norm(0.3)),\n",
    "    # keras.layers.Dropout(rate=0.5),\n",
    "    # keras.layers.Dense(64,activation='relu',kernel_constraint=keras.constraints.max_norm(0.3)),\n",
    "    # keras.layers.Dropout(rate=0.5),\n",
    "    # keras.layers.Dense(16,activation='relu',kernel_constraint=keras.constraints.max_norm(0.3)),\n",
    "    # keras.layers.Dropout(rate=0.5),\n",
    "    keras.layers.Dense(1,activation='sigmoid')\n",
    "])\n",
    "CallBack=keras.callbacks.EarlyStopping(patience=10,mode='val_loss',restore_best_weights=True)\n",
    "model.compile(loss='binary_crossentropy',optimizer=keras.optimizers.Adam(learning_rate=0.0001),metrics=['accuracy'])\n",
    "model.summary()"
   ]
  },
  {
   "cell_type": "code",
   "execution_count": 111,
   "metadata": {},
   "outputs": [
    {
     "name": "stdout",
     "output_type": "stream",
     "text": [
      "Epoch 1/45\n",
      "278/278 [==============================] - 8s 25ms/step - loss: 0.6934 - accuracy: 0.5101 - val_loss: 0.6930 - val_accuracy: 0.5201\n",
      "Epoch 2/45\n",
      "278/278 [==============================] - 6s 22ms/step - loss: 0.6933 - accuracy: 0.5065 - val_loss: 0.6932 - val_accuracy: 0.4799\n",
      "Epoch 3/45\n",
      "278/278 [==============================] - 6s 23ms/step - loss: 0.6931 - accuracy: 0.5065 - val_loss: 0.6933 - val_accuracy: 0.4799\n",
      "Epoch 4/45\n",
      "278/278 [==============================] - 6s 23ms/step - loss: 0.6931 - accuracy: 0.5072 - val_loss: 0.6931 - val_accuracy: 0.4873\n",
      "Epoch 5/45\n",
      "278/278 [==============================] - 6s 23ms/step - loss: 0.6929 - accuracy: 0.5094 - val_loss: 0.6932 - val_accuracy: 0.4832\n",
      "Epoch 6/45\n",
      "278/278 [==============================] - 7s 24ms/step - loss: 0.6923 - accuracy: 0.5236 - val_loss: 0.6908 - val_accuracy: 0.5692\n",
      "Epoch 7/45\n",
      "278/278 [==============================] - 7s 25ms/step - loss: 0.6889 - accuracy: 0.5479 - val_loss: 0.6883 - val_accuracy: 0.5594\n",
      "Epoch 8/45\n",
      "278/278 [==============================] - 7s 25ms/step - loss: 0.6830 - accuracy: 0.5721 - val_loss: 0.6935 - val_accuracy: 0.5274\n",
      "Epoch 9/45\n",
      "278/278 [==============================] - 7s 26ms/step - loss: 0.6421 - accuracy: 0.6430 - val_loss: 0.5894 - val_accuracy: 0.6830\n",
      "Epoch 10/45\n",
      "278/278 [==============================] - 7s 25ms/step - loss: 0.5771 - accuracy: 0.7060 - val_loss: 0.5479 - val_accuracy: 0.6855\n",
      "Epoch 11/45\n",
      "278/278 [==============================] - 7s 26ms/step - loss: 0.5436 - accuracy: 0.7316 - val_loss: 0.5257 - val_accuracy: 0.7207\n",
      "Epoch 12/45\n",
      "278/278 [==============================] - 7s 25ms/step - loss: 0.5199 - accuracy: 0.7580 - val_loss: 0.4802 - val_accuracy: 0.7641\n",
      "Epoch 13/45\n",
      "278/278 [==============================] - 7s 25ms/step - loss: 0.4632 - accuracy: 0.8008 - val_loss: 0.4547 - val_accuracy: 0.7813\n",
      "Epoch 14/45\n",
      "278/278 [==============================] - 7s 26ms/step - loss: 0.4352 - accuracy: 0.8107 - val_loss: 0.4756 - val_accuracy: 0.7846\n",
      "Epoch 15/45\n",
      "278/278 [==============================] - 7s 26ms/step - loss: 0.4299 - accuracy: 0.8197 - val_loss: 0.4301 - val_accuracy: 0.8043\n",
      "Epoch 16/45\n",
      "278/278 [==============================] - 7s 27ms/step - loss: 0.4070 - accuracy: 0.8329 - val_loss: 0.4349 - val_accuracy: 0.7912\n",
      "Epoch 17/45\n",
      "278/278 [==============================] - 7s 26ms/step - loss: 0.4032 - accuracy: 0.8384 - val_loss: 0.4404 - val_accuracy: 0.8010\n",
      "Epoch 18/45\n",
      "278/278 [==============================] - 8s 27ms/step - loss: 0.3866 - accuracy: 0.8417 - val_loss: 0.4242 - val_accuracy: 0.8059\n",
      "Epoch 19/45\n",
      "278/278 [==============================] - 7s 27ms/step - loss: 0.3740 - accuracy: 0.8490 - val_loss: 0.4283 - val_accuracy: 0.8075\n",
      "Epoch 20/45\n",
      "278/278 [==============================] - 7s 26ms/step - loss: 0.3743 - accuracy: 0.8541 - val_loss: 0.4171 - val_accuracy: 0.8133\n",
      "Epoch 21/45\n",
      "278/278 [==============================] - 7s 26ms/step - loss: 0.3605 - accuracy: 0.8575 - val_loss: 0.4273 - val_accuracy: 0.8034\n",
      "Epoch 22/45\n",
      "278/278 [==============================] - 8s 28ms/step - loss: 0.3533 - accuracy: 0.8609 - val_loss: 0.4173 - val_accuracy: 0.8198\n",
      "Epoch 23/45\n",
      "278/278 [==============================] - 7s 27ms/step - loss: 0.3399 - accuracy: 0.8681 - val_loss: 0.4056 - val_accuracy: 0.8198\n",
      "Epoch 24/45\n",
      "278/278 [==============================] - 8s 29ms/step - loss: 0.3337 - accuracy: 0.8681 - val_loss: 0.4212 - val_accuracy: 0.8116\n",
      "Epoch 25/45\n",
      "278/278 [==============================] - 8s 29ms/step - loss: 0.3197 - accuracy: 0.8748 - val_loss: 0.4448 - val_accuracy: 0.8108\n",
      "Epoch 26/45\n",
      "278/278 [==============================] - 8s 29ms/step - loss: 0.3144 - accuracy: 0.8831 - val_loss: 0.4474 - val_accuracy: 0.8182\n",
      "Epoch 27/45\n",
      "278/278 [==============================] - 9s 32ms/step - loss: 0.2989 - accuracy: 0.8881 - val_loss: 0.4508 - val_accuracy: 0.8206\n",
      "Epoch 28/45\n",
      "278/278 [==============================] - 9s 31ms/step - loss: 0.2906 - accuracy: 0.8895 - val_loss: 0.4327 - val_accuracy: 0.8182\n",
      "Epoch 29/45\n",
      "278/278 [==============================] - 9s 31ms/step - loss: 0.2877 - accuracy: 0.8971 - val_loss: 0.4307 - val_accuracy: 0.8321\n",
      "Epoch 30/45\n",
      "278/278 [==============================] - 8s 30ms/step - loss: 0.2766 - accuracy: 0.9018 - val_loss: 0.4720 - val_accuracy: 0.8133\n",
      "Epoch 31/45\n",
      "278/278 [==============================] - 8s 29ms/step - loss: 0.2555 - accuracy: 0.9064 - val_loss: 0.4565 - val_accuracy: 0.8067\n",
      "Epoch 32/45\n",
      "278/278 [==============================] - 9s 32ms/step - loss: 0.2556 - accuracy: 0.9104 - val_loss: 0.5126 - val_accuracy: 0.8247\n",
      "Epoch 33/45\n",
      "278/278 [==============================] - 8s 30ms/step - loss: 0.2324 - accuracy: 0.9181 - val_loss: 0.4892 - val_accuracy: 0.8149\n"
     ]
    }
   ],
   "source": [
    "history=model.fit(x_train,y_train,validation_data=(x_val,y_val),validation_batch_size=20,batch_size=20,epochs=45,callbacks=[CallBack])"
   ]
  },
  {
   "cell_type": "code",
   "execution_count": 112,
   "metadata": {},
   "outputs": [
    {
     "data": {
      "text/plain": [
       "<Axes: >"
      ]
     },
     "execution_count": 112,
     "metadata": {},
     "output_type": "execute_result"
    },
    {
     "data": {
      "image/png": "[encoded data removed]",
      "text/plain": [
       "<Figure size 640x480 with 1 Axes>"
      ]
     },
     "metadata": {},
     "output_type": "display_data"
    }
   ],
   "source": [
    "sns.lineplot(history.history)"
   ]
  },
  {
   "cell_type": "code",
   "execution_count": 113,
   "metadata": {},
   "outputs": [
    {
     "name": "stdout",
     "output_type": "stream",
     "text": [
      "57/57 [==============================] - 1s 12ms/step\n"
     ]
    }
   ],
   "source": [
    "predictions=model.predict(x_test)"
   ]
  },
  {
   "cell_type": "code",
   "execution_count": 114,
   "metadata": {},
   "outputs": [
    {
     "name": "stdout",
     "output_type": "stream",
     "text": [
      "r2=0.5213701642738648  ///  adj_r2=0.5120601110599738\n"
     ]
    }
   ],
   "source": [
    "r2=r2_score(y_test,predictions)\n",
    "Adj_r2= 1-(1-r2)*(5242-1)/(5242-100-1)\n",
    "print(f'r2={r2}  ///  adj_r2={Adj_r2}')"
   ]
  },
  {
   "cell_type": "code",
   "execution_count": 115,
   "metadata": {},
   "outputs": [
    {
     "name": "stdout",
     "output_type": "stream",
     "text": [
      "rmse=0.3458425480930763  ///  mse=0.11960706807151178  ///  mae=0.25373548850121674\n"
     ]
    }
   ],
   "source": [
    "mse=mean_squared_error(y_test,predictions)\n",
    "mae=mean_absolute_error(y_test,predictions)\n",
    "rmse=np.sqrt(mse)\n",
    "print(f'rmse={rmse}  ///  mse={mse}  ///  mae={mae}')"
   ]
  },
  {
   "cell_type": "code",
   "execution_count": 116,
   "metadata": {},
   "outputs": [
    {
     "name": "stdout",
     "output_type": "stream",
     "text": [
      "f1_score:0.8397976391231029 \n",
      "\n",
      "confusion maxtrix:\n",
      "[[771 112]\n",
      " [173 747]] \n",
      "\n",
      "accuracy_score:0.8419301164725458\n"
     ]
    }
   ],
   "source": [
    "predictions_2=np.where(predictions>=0.5,1,0)\n",
    "\n",
    "print(f'f1_score:{f1_score(y_test,predictions_2)}','\\n')\n",
    "print('confusion maxtrix:')\n",
    "print(confusion_matrix(y_test,predictions_2),'\\n')\n",
    "print(f'accuracy_score:{accuracy_score(y_test,predictions_2)}')"
   ]
  },
  {
   "cell_type": "code",
   "execution_count": 117,
   "metadata": {},
   "outputs": [],
   "source": [
    "model.save('model.h5')\n",
    "\n",
    "# w=keras.models.load_model('model.h5')"
   ]
  },
  {
   "cell_type": "code",
   "execution_count": null,
   "metadata": {},
   "outputs": [],
   "source": []
  },
  {
   "cell_type": "code",
   "execution_count": null,
   "metadata": {},
   "outputs": [],
   "source": []
  },
  {
   "cell_type": "code",
   "execution_count": null,
   "metadata": {},
   "outputs": [],
   "source": []
  },
  {
   "cell_type": "code",
   "execution_count": null,
   "metadata": {},
   "outputs": [],
   "source": []
  },
  {
   "cell_type": "code",
   "execution_count": 1,
   "metadata": {},
   "outputs": [],
   "source": [
    "import pandas as pd\n",
    "import numpy as np\n",
    "import seaborn as sns\n",
    "# from sklearn.model_selection import train_test_split\n",
    "import matplotlib.pyplot as plt\n",
    "import tensorflow as tf\n",
    "from tensorflow import keras\n",
    "# from sklearn.metrics import f1_score,accuracy_score,confusion_matrix,mean_squared_error,r2_score,mean_absolute_error\n",
    "# from sklearn.preprocessing import MinMaxScaler\n",
    "# from sklearn.impute import SimpleImputer\n",
    "# from sklearn.model_selection import cross_val_score\n",
    "from sklearn.utils import shuffle\n",
    "from sklearn.decomposition import PCA\n",
    "import os\n",
    "import cv2\n",
    "# import pickle\n",
    "from tqdm import tqdm"
   ]
  },
  {
   "cell_type": "code",
   "execution_count": 2,
   "metadata": {},
   "outputs": [
    {
     "name": "stdout",
     "output_type": "stream",
     "text": [
      "WARNING:tensorflow:EarlyStopping mode val_loss is unknown, fallback to auto mode.\n",
      "Model: \"sequential\"\n",
      "_________________________________________________________________\n",
      " Layer (type)                Output Shape              Param #   \n",
      "=================================================================\n",
      " conv2d (Conv2D)             (None, 195, 195, 32)      3488      \n",
      "                                                                 \n",
      " max_pooling2d (MaxPooling2D  (None, 97, 97, 32)       0         \n",
      " )                                                               \n",
      "                                                                 \n",
      " conv2d_1 (Conv2D)           (None, 95, 95, 64)        18496     \n",
      "                                                                 \n",
      " max_pooling2d_1 (MaxPooling  (None, 47, 47, 64)       0         \n",
      " 2D)                                                             \n",
      "                                                                 \n",
      " conv2d_2 (Conv2D)           (None, 45, 45, 128)       73856     \n",
      "                                                                 \n",
      " max_pooling2d_2 (MaxPooling  (None, 22, 22, 128)      0         \n",
      " 2D)                                                             \n",
      "                                                                 \n",
      " conv2d_3 (Conv2D)           (None, 22, 22, 128)       147584    \n",
      "                                                                 \n",
      " conv2d_4 (Conv2D)           (None, 22, 22, 256)       295168    \n",
      "                                                                 \n",
      " max_pooling2d_3 (MaxPooling  (None, 11, 11, 256)      0         \n",
      " 2D)                                                             \n",
      "                                                                 \n",
      " conv2d_5 (Conv2D)           (None, 11, 11, 384)       885120    \n",
      "                                                                 \n",
      " max_pooling2d_4 (MaxPooling  (None, 5, 5, 384)        0         \n",
      " 2D)                                                             \n",
      "                                                                 \n",
      " flatten (Flatten)           (None, 9600)              0         \n",
      "                                                                 \n",
      " dense (Dense)               (None, 256)               2457856   \n",
      "                                                                 \n",
      " dropout (Dropout)           (None, 256)               0         \n",
      "                                                                 \n",
      " dense_1 (Dense)             (None, 64)                16448     \n",
      "                                                                 \n",
      " dropout_1 (Dropout)         (None, 64)                0         \n",
      "                                                                 \n",
      " dense_2 (Dense)             (None, 16)                1040      \n",
      "                                                                 \n",
      " dropout_2 (Dropout)         (None, 16)                0         \n",
      "                                                                 \n",
      " dense_3 (Dense)             (None, 1)                 17        \n",
      "                                                                 \n",
      "=================================================================\n",
      "Total params: 3,899,073\n",
      "Trainable params: 3,899,073\n",
      "Non-trainable params: 0\n",
      "_________________________________________________________________\n"
     ]
    }
   ],
   "source": [
    "model=tf.keras.Sequential([\n",
    "    keras.layers.Conv2D(32,kernel_size=(6,6),activation='relu',input_shape=(200,200,3),kernel_constraint=keras.constraints.max_norm(0.3)),\n",
    "    keras.layers.MaxPool2D(pool_size=(2,2),strides=2),\n",
    "    keras.layers.Conv2D(64,kernel_size=(3,3),activation='relu',kernel_constraint=keras.constraints.max_norm(0.3)),\n",
    "    keras.layers.MaxPool2D(pool_size=(2)),\n",
    "    keras.layers.Conv2D(128,kernel_size=(3,3),activation='relu',kernel_constraint=keras.constraints.max_norm(0.3)),\n",
    "    keras.layers.MaxPool2D(pool_size=(2)),\n",
    "    keras.layers.Conv2D(128,kernel_size=(3,3),activation='relu',padding='same',kernel_constraint=keras.constraints.max_norm(0.3)),\n",
    "    keras.layers.Conv2D(256,kernel_size=(3,3),activation='relu',padding='same',kernel_constraint=keras.constraints.max_norm(0.3)),\n",
    "    keras.layers.MaxPool2D(pool_size=(2)),\n",
    "    keras.layers.Conv2D(384,kernel_size=(3,3),activation='relu',padding='same',kernel_constraint=keras.constraints.max_norm(0.3)),\n",
    "    keras.layers.MaxPool2D(pool_size=(2)),\n",
    "    keras.layers.Flatten(),\n",
    "    keras.layers.Dense(256,activation='relu',kernel_constraint=keras.constraints.max_norm(0.3)),\n",
    "    keras.layers.Dropout(rate=0.5),\n",
    "    keras.layers.Dense(64,activation='relu',kernel_constraint=keras.constraints.max_norm(0.3)),\n",
    "    keras.layers.Dropout(rate=0.5),\n",
    "    keras.layers.Dense(16,activation='relu',kernel_constraint=keras.constraints.max_norm(0.3)),\n",
    "    keras.layers.Dropout(rate=0.5),\n",
    "    keras.layers.Dense(1,activation='sigmoid')\n",
    "])\n",
    "CallBack=keras.callbacks.EarlyStopping(patience=10,mode='val_loss',restore_best_weights=True)\n",
    "model.compile(loss='binary_crossentropy',optimizer=keras.optimizers.Adam(learning_rate=0.0001),metrics=['accuracy'])\n",
    "model.summary()"
   ]
  },
  {
   "cell_type": "code",
   "execution_count": 3,
   "metadata": {},
   "outputs": [],
   "source": [
    "def get_len(the_path):\n",
    "    length=0\n",
    "    categories=os.listdir(the_path)\n",
    "    for category in categories:\n",
    "        Path=os.path.join(the_path,category)\n",
    "        length=length+len(os.listdir(Path))\n",
    "    return length"
   ]
  },
  {
   "cell_type": "code",
   "execution_count": 4,
   "metadata": {},
   "outputs": [],
   "source": [
    "# load and resizing the images\n",
    "def get_image_big_batch(Batch,Big_Batch_size,the_path,Batch_size,Random_state):\n",
    "    Start=Big_Batch_size*(Batch//((Big_Batch_size*2)//Batch_size))\n",
    "    categories=os.listdir(the_path)\n",
    "    MyDataSet=[]\n",
    "    for category in categories:\n",
    "        label=categories.index(category)\n",
    "        Path=os.path.join(the_path,category)\n",
    "        if len(os.listdir(Path))>Start+Big_Batch_size:\n",
    "            for pic_name in os.listdir(Path)[Start:Start+Big_Batch_size]:\n",
    "                MyDataSet.append((os.path.join(Path,pic_name),label))\n",
    "        else:\n",
    "            for pic_name in os.listdir(Path)[Start:]:\n",
    "                MyDataSet.append((os.path.join(Path,pic_name),label))\n",
    "    shuffled_MyDataSet=shuffle(MyDataSet,random_state=Random_state)\n",
    "    return shuffled_MyDataSet\n"
   ]
  },
  {
   "cell_type": "code",
   "execution_count": 5,
   "metadata": {},
   "outputs": [],
   "source": [
    "def get_batch_from_big_batch(batch,batch_size,the_big_batch,pic_size):\n",
    "    Start=batch_size*(batch%(len(the_big_batch)//batch_size))\n",
    "    mini_X_MyDataSet=[]\n",
    "    mini_Y_MyDataSet=[]\n",
    "    for path,Y in the_big_batch[Start:Start+batch_size]:\n",
    "        try:\n",
    "            image=cv2.imread(path)/255\n",
    "            resized = cv2.resize(image, (pic_size, pic_size))\n",
    "        except:\n",
    "            pass\n",
    "        mini_X_MyDataSet.append(resized)\n",
    "        mini_Y_MyDataSet.append(Y)\n",
    "    return mini_X_MyDataSet,mini_Y_MyDataSet"
   ]
  },
  {
   "cell_type": "code",
   "execution_count": 10,
   "metadata": {},
   "outputs": [],
   "source": [
    "def train_on_batch(the_path,batch_size,Big_Batch_size,n_epoch,val_num_in_batch,pic_size,seed=42):\n",
    "    loss_history=[]\n",
    "    acc_history=[]\n",
    "    val_loss_history=[]\n",
    "    val_acc_history=[]\n",
    "    for epoch in range(n_epoch):\n",
    "        # val_xds.clear()\n",
    "        # val_yds.clear()\n",
    "        val_xds=[]\n",
    "        val_yds=[]\n",
    "        for batch in tqdm(range(get_len(the_path)//batch_size)):\n",
    "            if batch%(((Big_Batch_size*2)//batch_size))==0:\n",
    "                access='granted'\n",
    "            else:\n",
    "                access='not granted'\n",
    "            if access=='granted':\n",
    "                Big_Batch=get_image_big_batch(batch,Big_Batch_size,the_path,batch_size,Random_state=seed)\n",
    "            batch_x,batch_y=get_batch_from_big_batch(batch,batch_size,Big_Batch,pic_size)\n",
    "            for val_element in batch_x[-val_num_in_batch:]:\n",
    "                val_xds.append(val_element)\n",
    "            for val_element in batch_y[-val_num_in_batch:]:\n",
    "                val_yds.append(val_element)\n",
    "            loss,acc=model.train_on_batch(np.array(batch_x[:batch_size-val_num_in_batch]),np.array(batch_y[:batch_size-val_num_in_batch]))\n",
    "            # val_loss,val_acc=model.test_on_batch(np.array(batch_x[-val_num_in_batch:]),np.array(batch_y[-val_num_in_batch:]))\n",
    "        loss_history.append(loss)\n",
    "        acc_history.append(acc)\n",
    "        val_loss,val_acc=model.evaluate(np.array(val_xds),np.array(val_yds))\n",
    "        del val_xds[:]\n",
    "        del val_xds\n",
    "        del val_yds[:]\n",
    "        del val_yds\n",
    "        val_loss_history.append(val_loss)\n",
    "        val_acc_history.append(val_acc)\n",
    "        print('Epoch: %d ,     Train Loss %.4f,    Train Acc. %.4f,    Val Loss %.4f,    Val Acc. %.4f' %\n",
    "\t\t\t(epoch+1, loss, acc, val_loss, val_acc))\n",
    "    return {'loss_history':loss_history,'acc_history':acc_history,'val_loss_history':val_loss_history,'val_acc_history':val_acc_history}"
   ]
  },
  {
   "cell_type": "code",
   "execution_count": 11,
   "metadata": {},
   "outputs": [
    {
     "name": "stderr",
     "output_type": "stream",
     "text": [
      "  0%|          | 0/214 [00:00<?, ?it/s]"
     ]
    },
    {
     "name": "stderr",
     "output_type": "stream",
     "text": [
      " 11%|█         | 24/214 [00:13<01:40,  1.89it/s]"
     ]
    },
    {
     "name": "stderr",
     "output_type": "stream",
     "text": [
      " 14%|█▎        | 29/214 [00:16<01:34,  1.95it/s]"
     ]
    }
   ],
   "source": [
    "path='D:\\\\datasets\\\\watermark detector\\\\dataset\\\\train'\n",
    "history=train_on_batch(path,batch_size=40,Big_Batch_size=200,n_epoch=25,val_num_in_batch=8,pic_size=200)"
   ]
  },
  {
   "cell_type": "code",
   "execution_count": 10,
   "metadata": {},
   "outputs": [
    {
     "data": {
      "text/plain": [
       "<Axes: >"
      ]
     },
     "execution_count": 10,
     "metadata": {},
     "output_type": "execute_result"
    },
    {
     "data": {
      "image/png": "[encoded data removed]",
      "text/plain": [
       "<Figure size 640x480 with 1 Axes>"
      ]
     },
     "metadata": {},
     "output_type": "display_data"
    }
   ],
   "source": [
    "sns.lineplot(history)"
   ]
  },
  {
   "cell_type": "code",
   "execution_count": 9,
   "metadata": {},
   "outputs": [],
   "source": [
    "# Train Loss 0.1759,    Train Acc. 0.9375,    Val Loss 0.1572,    Val Acc. 0.9463\n",
    "# model.save('model.h5')\n",
    "\n",
    "model=keras.models.load_model('model.h5')"
   ]
  },
  {
   "cell_type": "code",
   "execution_count": 7,
   "metadata": {},
   "outputs": [],
   "source": [
    "Big_Batch=get_image_big_batch(1,2500,path,2500)\n",
    "x,y=get_batch_from_big_batch(1,2500,Big_Batch)"
   ]
  },
  {
   "cell_type": "code",
   "execution_count": 10,
   "metadata": {},
   "outputs": [
    {
     "name": "stdout",
     "output_type": "stream",
     "text": [
      "79/79 [==============================] - 1s 12ms/step - loss: 0.1410 - accuracy: 0.9508\n"
     ]
    },
    {
     "data": {
      "text/plain": [
       "[0.1410139799118042, 0.9508000016212463]"
      ]
     },
     "execution_count": 10,
     "metadata": {},
     "output_type": "execute_result"
    }
   ],
   "source": [
    "model.evaluate(np.array(x),np.array(y))"
   ]
  }
 ],
 "metadata": {
  "kernelspec": {
   "display_name": "tensorflow_gpu",
   "language": "python",
   "name": "python3"
  },
  "language_info": {
   "codemirror_mode": {
    "name": "ipython",
    "version": 3
   },
   "file_extension": ".py",
   "mimetype": "text/x-python",
   "name": "python",
   "nbconvert_exporter": "python",
   "pygments_lexer": "ipython3",
   "version": "3.9.17"
  },
  "orig_nbformat": 4
 },
 "nbformat": 4,
 "nbformat_minor": 2
}
